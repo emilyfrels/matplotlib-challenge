{
 "cells": [
  {
   "cell_type": "markdown",
   "metadata": {},
   "source": [
    "## Observations and Insights "
   ]
  },
  {
   "cell_type": "markdown",
   "metadata": {},
   "source": []
  },
  {
   "cell_type": "code",
   "execution_count": null,
   "metadata": {},
   "outputs": [],
   "source": [
    "# Dependencies and Setup\n",
    "import pandas as pd\n",
    "import matplotlib.pyplot as plt\n",
    "import scipy.stats as st\n",
    "\n",
    "# Study data files\n",
    "mouse_metadata_path = \"data/Mouse_metadata.csv\"\n",
    "study_results_path = \"data/Study_results.csv\"\n",
    "\n",
    "# Read the mouse data and the study results\n",
    "mouse_metadata = pd.read_csv(mouse_metadata_path)\n",
    "study_results = pd.read_csv(study_results_path)\n",
    "\n",
    "# # Get length of both files\n",
    "# print(len(mouse_metadata))\n",
    "# print(len(study_results))\n",
    "\n",
    "# Combine the data into a single dataset\n",
    "all_mouse_data_df = pd.merge(mouse_metadata, study_results, on=\"Mouse ID\")\n",
    "\n",
    "# Display the data table for preview\n",
    "all_mouse_data_df\n"
   ]
  },
  {
   "cell_type": "code",
   "execution_count": null,
   "metadata": {},
   "outputs": [],
   "source": [
    "# Check the number of mice.\n",
    "num_mice = len(all_mouse_data_df)\n",
    "print(f\"The number of mice: {num_mice}\")"
   ]
  },
  {
   "cell_type": "code",
   "execution_count": null,
   "metadata": {},
   "outputs": [],
   "source": [
    "# Get the duplicate mice by ID number that shows up for Mouse ID and Timepoint. \n",
    "duplicate_mice = all_mouse_data_df[all_mouse_data_df.duplicated(['Mouse ID', 'Timepoint'])]\n",
    "duplicate_mice"
   ]
  },
  {
   "cell_type": "code",
   "execution_count": null,
   "metadata": {},
   "outputs": [],
   "source": [
    "# Optional: Get all the data for the duplicate mouse ID. \n"
   ]
  },
  {
   "cell_type": "code",
   "execution_count": null,
   "metadata": {},
   "outputs": [],
   "source": [
    "# Create a clean DataFrame by dropping the duplicate mouse by its ID.\n",
    "clean_mouse_data = all_mouse_data_df.drop_duplicates(subset=['Mouse ID', 'Timepoint'], keep='last')\n",
    "clean_mouse_data"
   ]
  },
  {
   "cell_type": "code",
   "execution_count": null,
   "metadata": {},
   "outputs": [],
   "source": [
    "# Check the number of mice in the clean DataFrame.\n",
    "num_mice_clean = len(clean_mouse_data)\n",
    "print(f\"The number of mice: {num_mice_clean}\")"
   ]
  },
  {
   "cell_type": "markdown",
   "metadata": {},
   "source": [
    "## Summary Statistics"
   ]
  },
  {
   "cell_type": "code",
   "execution_count": null,
   "metadata": {},
   "outputs": [],
   "source": [
    "# Method 1:  Generate a summary statistics table of mean, median, variance, standard deviation, and SEM of the tumor volume for each regimen\n",
    "clean_mouse_data[['Tumor Volume (mm3)', 'Drug Regimen']].describe()\n",
    "\n",
    "# This method is the most straighforward, creating multiple series and putting them all together at the end.\n",
    "\n"
   ]
  },
  {
   "cell_type": "code",
   "execution_count": null,
   "metadata": {},
   "outputs": [],
   "source": [
    "# Method 2(optional): Generate a summary statistics table of mean, median, variance, standard deviation, and SEM of the tumor volume for each regimen\n",
    "clean_mouse_data[['Tumor Volume (mm3)', 'Drug Regimen']].groupby('Drug Regimen').describe()\n",
    "# This method produces everything in a single groupby function. (https://pandas.pydata.org/pandas-docs/version/0.22.0/generated/pandas.core.groupby.DataFrameGroupBy.agg.html)\n"
   ]
  },
  {
   "cell_type": "markdown",
   "metadata": {},
   "source": [
    "## Bar and Pie Charts"
   ]
  },
  {
   "cell_type": "code",
   "execution_count": null,
   "metadata": {},
   "outputs": [],
   "source": [
    "# Use Pandas to generate a bar plot showing the total number of mice in each treatment regimen \n",
    "# throughout the course of the study. \n",
    "\n",
    "## Note: this plot will be identical to the one that uses Pyplot\n",
    "\n",
    "clean_mouse_data.groupby('Drug Regimen')['Mouse ID'].nunique().plot(kind='bar')\n",
    "\n",
    "plt.title('Number of Mice per Treatment Regimen')\n",
    "plt.ylabel('Number of Mice')\n",
    "plt.show()\n"
   ]
  },
  {
   "cell_type": "code",
   "execution_count": null,
   "metadata": {},
   "outputs": [],
   "source": [
    "# Use Pyplot to generate a bar plot showing the total number of mice treatment in each treatment regimen throughout the course of the study.\n",
    "\n",
    "##  Note: this plot will be identical to the one that uses Pandas\n",
    "\n",
    "x_axis=clean_mouse_data['Drug Regimen'].unique()\n",
    "plt.figure(figsize=(7,7))\n",
    "plt.bar(x_axis, clean_mouse_data.groupby('Drug Regimen')['Mouse ID'].nunique())\n",
    "plt.title('Number of Mice per Treatment Regimen')\n",
    "plt.ylabel('Number of Mice')\n",
    "plt.xticks(rotation=90)\n",
    "plt.show()"
   ]
  },
  {
   "cell_type": "code",
   "execution_count": null,
   "metadata": {},
   "outputs": [],
   "source": [
    "# Use Pandas to generate a pie plot showing the distribution of female versus male mice\n",
    "\n",
    "## Note: this plot will be identical to the one that uses Pyplot\n",
    "\n",
    "clean_mouse_data.groupby('Sex')['Mouse ID'].nunique().plot(kind='pie')\n",
    "\n",
    "plt.title('Male vs. Female Mice')\n",
    "plt.show()"
   ]
  },
  {
   "cell_type": "code",
   "execution_count": null,
   "metadata": {},
   "outputs": [],
   "source": [
    "# Use Pyplot to generate a pie plot showing the distribution of female versus male mice\n",
    "\n",
    "##  Note: this plot will be identical to the one that uses Pandas\n",
    "\n",
    "x_axis=clean_mouse_data['Sex'].unique()\n",
    "plt.figure(figsize=(7,7))\n",
    "plt.bar(x_axis, clean_mouse_data.groupby('Sex')['Mouse ID'].nunique())\n",
    "plt.title('Male vs. Female Mice')\n",
    "plt.show()"
   ]
  },
  {
   "cell_type": "markdown",
   "metadata": {},
   "source": [
    "## Quartiles, Outliers and Boxplots"
   ]
  },
  {
   "cell_type": "code",
   "execution_count": null,
   "metadata": {},
   "outputs": [],
   "source": [
    "# Calculate the final tumor volume of each mouse across four of the drug regimens:  \n",
    "# Capomulin, Ramicane, Infubinol, and Ceftamin\n",
    "clean_mouse_data.head(50)\n",
    "\n",
    "# Start by getting the last (latest) timepoint for each mouse\n",
    "latest_timepoint = clean_mouse_data[clean_mouse_data.Timepoint.eq(45)]\n",
    "latest_timepoint\n",
    "\n",
    "\n",
    "# filter dataframe to only show the 4 drug regimens listed above\n",
    "filtered_drug_regimen = latest_timepoint.loc[(latest_timepoint['Drug Regimen'] == 'Capomulin') | \\\n",
    "                                             (latest_timepoint['Drug Regimen'] == 'Ramicane') | \\\n",
    "                                             (latest_timepoint['Drug Regimen'] == 'Infubinol') | \\\n",
    "                                             (latest_timepoint['Drug Regimen'] == 'Ceftamin') \\\n",
    "                                            ]\n",
    "\n",
    "filtered_drug_regimen\n",
    "\n",
    "# Merge this group df with the original dataframe to get the tumor volume at the last timepoint"
   ]
  },
  {
   "cell_type": "code",
   "execution_count": null,
   "metadata": {},
   "outputs": [],
   "source": [
    "# Put the four drug regimens into a list that can be iterated over in a for-loop \n",
    "# (and later used for plot labels)\n",
    "regimen_list = filtered_drug_regimen[\"Drug Regimen\"]\n",
    "\n",
    "# Create empty list to fill with tumor vol data (for plotting)\n",
    "tumor_data = []\n",
    "\n",
    "# Calculate the IQR and quantitatively determine if there are any potential outliers. \n",
    "regimen_tumor_df = pd.DataFrame()\n",
    "# for i in regimen_list:\n",
    "#     regimen_list = filtered_drug_regimen[filtered_drug_regimen[\"Drug Regimen\"]==i][\"Tumor Volume (mm3)\"].sum()\n",
    "#     regimen_tumor_df = regimen_tumor_df.append({\"Drug Regimen\": i, \"Total Tumor Volume\":regimen_list}, ignore_index=True)\n",
    "# regimen_tumor_df\n",
    "\n",
    "for i in each_mouse:\n",
    "    tumor_data = filtered_drug_regimen[filtered_drug_regimen[\"Mouse ID\"]==i][\"Tumor Volume (mm3)\"].sum()\n",
    "    # Locate the rows which contain mice on each drug and get the tumor volumes\n",
    "    regimen_list_per = filtered_drug_regimen[filtered_drug_regimen[\"Mouse ID\"]==i][\"Drug Regimen\"].unique()\n",
    "    \n",
    "    # add subset \n",
    "    regimen_tumor_df = regimen_tumor_df.append({\"Mouse ID\": i, \"Drug Regimen\": regimen_list_per, \"Total Tumor Volume\":tumor_data}, ignore_index=True)\n",
    "regimen_tumor_df\n",
    "   \n",
    "    \n",
    "    # Determine outliers using upper and lower bounds\n",
    "sorted_by_volume = regimen_tumor_df.sort_values(by='Total Tumor Volume', ascending=False)\n",
    "sorted_tumor = sorted_by_volume['Total Tumor Volume']\n",
    "sorted_tumor\n",
    "\n",
    "quartiles = sorted_tumor.quantile([.25,.5,.75])\n",
    "lowerq = quartiles[0.25]\n",
    "upperq = quartiles[0.75]\n",
    "iqr = upperq-lowerq\n",
    "\n",
    "print(f\"The lower quartile of tumor volume is: {lowerq}\")\n",
    "print(f\"The upper quartile of tumor volume is: {upperq}\")\n",
    "print(f\"The interquartile range of tumor volume is: {iqr}\")\n",
    "print(f\"The the median of tumor volume is: {quartiles[0.5]} \")\n",
    "\n",
    "lower_bound = lowerq - (1.5*iqr)\n",
    "upper_bound = upperq + (1.5*iqr)\n",
    "print(f\"Values below {lower_bound} could be outliers.\")\n",
    "print(f\"Values above {upper_bound} could be outliers.\")"
   ]
  },
  {
   "cell_type": "code",
   "execution_count": null,
   "metadata": {},
   "outputs": [],
   "source": [
    "# Generate a box plot of the final tumor volume of each mouse across four regimens of interest\n",
    "fig1, ax1 = plt.subplots()\n",
    "ax1.set_title('Final Tumor Volume')\n",
    "ax1.set_ylabel('Tumor Volume (mm3)')\n",
    "ax1.boxplot(sorted_tumor)\n",
    "plt.show()"
   ]
  },
  {
   "cell_type": "markdown",
   "metadata": {},
   "source": [
    "## Line and Scatter Plots"
   ]
  },
  {
   "cell_type": "code",
   "execution_count": null,
   "metadata": {},
   "outputs": [],
   "source": [
    "# Generate a line plot of tumor volume vs. timepoint for a mouse treated with Capomulin\n"
   ]
  },
  {
   "cell_type": "code",
   "execution_count": null,
   "metadata": {},
   "outputs": [],
   "source": [
    "# Generate a scatter plot of average tumor volume vs. mouse weight for the Capomulin regimen. \n",
    "# Note: this means mouse weight goes on the x-axis, with average tumor volume on the y-axis. \n"
   ]
  },
  {
   "cell_type": "markdown",
   "metadata": {},
   "source": [
    "## Correlation and Regression"
   ]
  },
  {
   "cell_type": "code",
   "execution_count": null,
   "metadata": {},
   "outputs": [],
   "source": [
    "# Calculate the correlation coefficient and linear regression model \n",
    "# for mouse weight and average tumor volume for the Capomulin regimen.\n"
   ]
  },
  {
   "cell_type": "code",
   "execution_count": null,
   "metadata": {},
   "outputs": [],
   "source": []
  }
 ],
 "metadata": {
  "anaconda-cloud": {},
  "kernelspec": {
   "display_name": "Python 3",
   "language": "python",
   "name": "python3"
  },
  "language_info": {
   "codemirror_mode": {
    "name": "ipython",
    "version": 3
   },
   "file_extension": ".py",
   "mimetype": "text/x-python",
   "name": "python",
   "nbconvert_exporter": "python",
   "pygments_lexer": "ipython3",
   "version": "3.6.10"
  }
 },
 "nbformat": 4,
 "nbformat_minor": 2
}
